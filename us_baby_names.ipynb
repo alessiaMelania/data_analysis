{
 "cells": [
  {
   "cell_type": "markdown",
   "id": "0b5e292d",
   "metadata": {},
   "source": [
    "##  US Baby Names 1880–2010"
   ]
  },
  {
   "cell_type": "markdown",
   "id": "866c46cb",
   "metadata": {},
   "source": [
    "The United States Social Security Administration (SSA) has made available data on\n",
    "the frequency of baby names from 1880 through the present. Hadley Wickham, an\n",
    "author of several popular R packages, has this dataset in illustrating data manipula‐\n",
    "tion in R."
   ]
  },
  {
   "cell_type": "code",
   "execution_count": 1,
   "id": "8ffceb6c",
   "metadata": {},
   "outputs": [
    {
     "name": "stdout",
     "output_type": "stream",
     "text": [
      "Mary,F,7065\n",
      "Anna,F,2604\n",
      "Emma,F,2003\n",
      "Elizabeth,F,1939\n",
      "Minnie,F,1746\n",
      "Margaret,F,1578\n",
      "Ida,F,1472\n",
      "Alice,F,1414\n",
      "Bertha,F,1320\n",
      "Sarah,F,1288\n"
     ]
    }
   ],
   "source": [
    "!head -n 10 datasets/babynames/yob1880.txt"
   ]
  },
  {
   "cell_type": "markdown",
   "id": "7c827e03",
   "metadata": {},
   "source": [
    "There are many things you might want to do with the dataset:\n",
    "- Visualize the proportion of babies given a particular name (your own, or another name) over time\n",
    "- Determine the relative rank of a name\n",
    "- Determine the most popular names in each year or the names whose popularity has advanced or declined the most\n",
    "- Analyze trends in names: vowels, consonants, length, overall diversity, changes in\n",
    "spelling, first and last letters\n",
    "- Analyze external sources of trends: biblical names, celebrities, demographics"
   ]
  },
  {
   "cell_type": "markdown",
   "id": "aa200b09",
   "metadata": {},
   "source": [
    "As of this writing, the US Social Security Administration makes available data files,\n",
    "one per year, containing the total number of births for each sex/name combination.\n",
    "You can download the [raw](https://www.ssa.gov/oact/babynames/limits.html) archive of these files. \n",
    "\n",
    "If this page has been moved by the time you’re reading this, it can most likely be\n",
    "located again with an internet search. After downloading the **“National data”** file\n",
    "**names.zip** and unzipping it, you will have a directory containing a series of files like `yob1880.txt`. "
   ]
  },
  {
   "cell_type": "code",
   "execution_count": 4,
   "id": "40d9caa0",
   "metadata": {},
   "outputs": [],
   "source": [
    "# code"
   ]
  },
  {
   "cell_type": "markdown",
   "id": "d79aaec7",
   "metadata": {},
   "source": [
    "These files only contain names with **at least five occurrences in each year**, so for\n",
    "simplicity’s sake we can use the sum of the births column by sex as the total number\n",
    "of births in that year"
   ]
  },
  {
   "cell_type": "code",
   "execution_count": 3,
   "id": "9e8b0387",
   "metadata": {},
   "outputs": [],
   "source": [
    "# code"
   ]
  },
  {
   "cell_type": "markdown",
   "id": "cd821caa",
   "metadata": {},
   "source": [
    "Since the dataset is **split into files by year**, one of the first things to do is to assemble all of the data into a single DataFrame and further add a year field. You can do this using `pandas.concat`.\n",
    "\n",
    "There are a couple things to **note** here. First, remember that `concat` combines the\n",
    "DataFrame objects by **row** by default. Second, you have to pass `ignore_index=True`\n",
    "because we’re **not** interested in preserving the original row numbers returned from\n",
    "`pandas.read_csv`."
   ]
  },
  {
   "cell_type": "code",
   "execution_count": null,
   "id": "6a0bfeab",
   "metadata": {},
   "outputs": [],
   "source": [
    "# code"
   ]
  },
  {
   "cell_type": "markdown",
   "id": "d44f2c7e",
   "metadata": {},
   "source": [
    "With this data in hand, we can already start **aggregating the data at the year and sex** level using `groupby` or `pivot_table` "
   ]
  },
  {
   "cell_type": "code",
   "execution_count": null,
   "id": "0b829f3a",
   "metadata": {},
   "outputs": [],
   "source": [
    "# code"
   ]
  },
  {
   "cell_type": "markdown",
   "id": "310ceb18",
   "metadata": {},
   "source": [
    "Next, let’s **insert a column** `prop` with the **fraction of babies given each name relative to the total number of births**. A `prop` value of 0.02 would indicate that 2 out of every 100 babies were given a particular name. \n",
    "\n",
    "Thus, we group the data by year and sex, then add the new column to each group"
   ]
  },
  {
   "cell_type": "code",
   "execution_count": null,
   "id": "634eda42",
   "metadata": {},
   "outputs": [],
   "source": [
    "# code"
   ]
  },
  {
   "cell_type": "markdown",
   "id": "447e2984",
   "metadata": {},
   "source": [
    "**NOTE:** When performing a group operation like this, it’s often valuable to do a **sanity check**, like verifying that the prop column sums to 1 within all the groups:"
   ]
  },
  {
   "cell_type": "code",
   "execution_count": null,
   "id": "887e6569",
   "metadata": {},
   "outputs": [],
   "source": [
    "# code"
   ]
  },
  {
   "cell_type": "markdown",
   "id": "a9979d28",
   "metadata": {},
   "source": [
    "Now that this is done, I’m going to ***extract a subset of the data*** to facilitate further analysis: **the top 1,000 names for each sex/year combination**."
   ]
  },
  {
   "cell_type": "code",
   "execution_count": null,
   "id": "aafa29a9",
   "metadata": {},
   "outputs": [],
   "source": [
    "# code"
   ]
  },
  {
   "cell_type": "markdown",
   "id": "fa713285",
   "metadata": {},
   "source": [
    "We can drop the group index since we don’t need it for our analysis"
   ]
  },
  {
   "cell_type": "markdown",
   "id": "617221f6",
   "metadata": {},
   "source": [
    "### Analyzing Naming Trends\n",
    "With the full dataset and the top one thousand dataset in hand, we can start analyzing\n",
    "various naming trends of interest. First, we can **split the top one thousand names into the boy and girl portions**\n"
   ]
  },
  {
   "cell_type": "code",
   "execution_count": null,
   "id": "8eac2102",
   "metadata": {},
   "outputs": [],
   "source": [
    "# code"
   ]
  },
  {
   "cell_type": "markdown",
   "id": "b7b5cb94",
   "metadata": {},
   "source": [
    "Simple time series, like the **number of Johns or Marys for each year**, can be plotted\n",
    "but require some manipulation to be more useful. \n",
    "\n",
    "Let’s form a **pivot table** of the **total number of births by year and name**"
   ]
  },
  {
   "cell_type": "code",
   "execution_count": null,
   "id": "bafe9695",
   "metadata": {},
   "outputs": [],
   "source": [
    "# code"
   ]
  },
  {
   "cell_type": "markdown",
   "id": "6eeb8aaf",
   "metadata": {},
   "source": [
    "### Measuring the increase in naming diversity\n",
    "One explanation for the **decrease in plots** is that fewer parents are choosing common\n",
    "names for their children. This hypothesis can be explored and confirmed in the data.\n",
    "One measure is the **proportion of births represented by the top 1,000 most popular names**, which I aggregate and plot by year and sex"
   ]
  },
  {
   "cell_type": "code",
   "execution_count": null,
   "id": "1ccbfa85",
   "metadata": {},
   "outputs": [],
   "source": [
    "# code"
   ]
  },
  {
   "cell_type": "markdown",
   "id": "1d5bb55a",
   "metadata": {},
   "source": [
    "You can see that, indeed, there **appears to be increasing name diversity** (decreasing\n",
    "total proportion in the top one thousand). \n",
    "\n",
    "Another interesting metric is the **number of distinct names, taken in order of popularity from highest to lowest, in the top 50% of births**. This number is trickier to compute. \n",
    "\n",
    "Let’s consider just the boy names from 2010"
   ]
  },
  {
   "cell_type": "code",
   "execution_count": null,
   "id": "9520e6e6",
   "metadata": {},
   "outputs": [],
   "source": [
    "# code"
   ]
  },
  {
   "cell_type": "markdown",
   "id": "8538e40d",
   "metadata": {},
   "source": [
    "After **sorting prop** in descending order, we want to know **how many of the most popular names it takes to reach 50%**. You could write a for loop to do this, but a\n",
    "vectorized NumPy way is more computationally efficient. Taking the cumulative sum,\n",
    "`cumsum`, of prop and then calling the method `searchsorted` returns the position in\n",
    "the cumulative sum at which 0.5 would need to be inserted to keep it in sorted order"
   ]
  },
  {
   "cell_type": "markdown",
   "id": "ad6b57d0",
   "metadata": {},
   "source": [
    "Since arrays are zero-indexed, adding 1 to this result gives you a result of **117**. By contrast, in 1900 this number was much smaller"
   ]
  },
  {
   "cell_type": "code",
   "execution_count": null,
   "id": "c5cdef38",
   "metadata": {},
   "outputs": [],
   "source": [
    "# code"
   ]
  },
  {
   "cell_type": "markdown",
   "id": "e5d1194a",
   "metadata": {},
   "source": [
    "You can now **apply this operation to each year/sex combination**, groupby those fields, and apply a function returning the count for each group:"
   ]
  },
  {
   "cell_type": "code",
   "execution_count": null,
   "id": "954d0d95",
   "metadata": {},
   "outputs": [],
   "source": [
    "# code"
   ]
  },
  {
   "cell_type": "markdown",
   "id": "fd20f8dc",
   "metadata": {},
   "source": [
    "This resulting DataFrame `diversity` now has two time series, one for each sex,\n",
    "indexed by year. This can be inspected and plotted as before"
   ]
  },
  {
   "cell_type": "code",
   "execution_count": null,
   "id": "4776dc12",
   "metadata": {},
   "outputs": [],
   "source": [
    "# code"
   ]
  },
  {
   "cell_type": "markdown",
   "id": "e9b0d549",
   "metadata": {},
   "source": [
    "As you can see, **girl names have always been more diverse than boy names**, and they\n",
    "have only become more so over time. "
   ]
  },
  {
   "cell_type": "markdown",
   "id": "7557a802",
   "metadata": {},
   "source": [
    "### The “last letter” revolution\n",
    "In 2007, baby name researcher Laura Wattenberg pointed out that **the distribution of boy names by final letter has changed significantly over the last 100 years**. To see this, we first aggregate all of the births in the full dataset by year, sex, and final letter"
   ]
  },
  {
   "cell_type": "code",
   "execution_count": null,
   "id": "5721ea23",
   "metadata": {},
   "outputs": [],
   "source": [
    "# code"
   ]
  },
  {
   "cell_type": "markdown",
   "id": "205de0b1",
   "metadata": {},
   "source": [
    "Then we select three representative years spanning the history and print the first few\n",
    "rows"
   ]
  },
  {
   "cell_type": "code",
   "execution_count": null,
   "id": "ce821f15",
   "metadata": {},
   "outputs": [],
   "source": [
    "# code"
   ]
  },
  {
   "cell_type": "markdown",
   "id": "ef5aca6c",
   "metadata": {},
   "source": [
    "Next, normalize the table by total births to compute a new table containing the\n",
    "proportion of total births for each sex ending in each letter"
   ]
  },
  {
   "cell_type": "code",
   "execution_count": null,
   "id": "a265508b",
   "metadata": {},
   "outputs": [],
   "source": [
    "# code"
   ]
  },
  {
   "cell_type": "markdown",
   "id": "320fa2c7",
   "metadata": {},
   "source": [
    "With the letter proportions now in hand, we can make bar plots for each sex, broken\n",
    "down by year"
   ]
  },
  {
   "cell_type": "code",
   "execution_count": null,
   "id": "42c06073",
   "metadata": {},
   "outputs": [],
   "source": [
    "# code"
   ]
  },
  {
   "cell_type": "markdown",
   "id": "9b1dd226",
   "metadata": {},
   "source": [
    "As you can see, **boy names ending in n have experienced significant growth since the 1960s**. \n",
    "\n",
    "Going back to the full table created before, I again **normalize by year and sex and select a subset of letters for the boy names, finally transposing to make each column a time series**"
   ]
  },
  {
   "cell_type": "code",
   "execution_count": null,
   "id": "fc5614ca",
   "metadata": {},
   "outputs": [],
   "source": [
    "# code"
   ]
  },
  {
   "cell_type": "markdown",
   "id": "269ede67",
   "metadata": {},
   "source": [
    "### Boy names that became girl names (and vice versa)\n",
    "Another fun trend is looking at names that were more popular with one gender\n",
    "earlier in the sample but have become preferred as a name for the other gender\n",
    "over time. One example is the name Lesley or Leslie. Going back to the top1000\n",
    "DataFrame, I compute a list of names occurring in the dataset starting with “Lesl”"
   ]
  },
  {
   "cell_type": "code",
   "execution_count": null,
   "id": "062870a1",
   "metadata": {},
   "outputs": [],
   "source": [
    "# code"
   ]
  },
  {
   "cell_type": "markdown",
   "id": "8cd573bd",
   "metadata": {},
   "source": [
    "From there, we can filter down to just those names and sum births grouped by name\n",
    "to see the relative frequencies"
   ]
  },
  {
   "cell_type": "code",
   "execution_count": null,
   "id": "9882ee2b",
   "metadata": {},
   "outputs": [],
   "source": [
    "# code"
   ]
  },
  {
   "cell_type": "markdown",
   "id": "5bae16e5",
   "metadata": {},
   "source": [
    "Next, let’s aggregate by sex and year, and normalize within year"
   ]
  },
  {
   "cell_type": "code",
   "execution_count": null,
   "id": "6bc908de",
   "metadata": {},
   "outputs": [],
   "source": [
    "# code"
   ]
  },
  {
   "cell_type": "markdown",
   "id": "159c888d",
   "metadata": {},
   "source": [
    "Lastly, it’s now possible to make a plot of the breakdown by sex over time"
   ]
  },
  {
   "cell_type": "code",
   "execution_count": null,
   "id": "a0658591",
   "metadata": {},
   "outputs": [],
   "source": [
    "# code"
   ]
  }
 ],
 "metadata": {
  "kernelspec": {
   "display_name": "analisi_dati",
   "language": "python",
   "name": "python3"
  },
  "language_info": {
   "codemirror_mode": {
    "name": "ipython",
    "version": 3
   },
   "file_extension": ".py",
   "mimetype": "text/x-python",
   "name": "python",
   "nbconvert_exporter": "python",
   "pygments_lexer": "ipython3",
   "version": "3.13.2"
  }
 },
 "nbformat": 4,
 "nbformat_minor": 5
}
