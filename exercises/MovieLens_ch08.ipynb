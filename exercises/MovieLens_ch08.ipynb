{
 "cells": [
  {
   "cell_type": "markdown",
   "id": "59121bb2",
   "metadata": {},
   "source": [
    "### Esercizio\n",
    "Unisci i DataFrame `ratings` e `movies` usando `merge()` sulla colonna `\"MovieID\"`.\n",
    "- Verifica il numero di righe prima e dopo."
   ]
  },
  {
   "cell_type": "code",
   "execution_count": null,
   "id": "08e404ea",
   "metadata": {},
   "outputs": [],
   "source": [
    "# Scrivi qui il tuo codice"
   ]
  },
  {
   "cell_type": "markdown",
   "id": "75da4f75",
   "metadata": {},
   "source": [
    "### Esercizio\n",
    "Unisci anche `users` per ottenere un unico DataFrame completo.\n",
    "- Che tipo di join stai usando di default? Cosa cambia con `how=\"outer\"`?"
   ]
  },
  {
   "cell_type": "code",
   "execution_count": null,
   "id": "70b0bc6a",
   "metadata": {},
   "outputs": [],
   "source": [
    "# Scrivi qui il tuo codice"
   ]
  },
  {
   "cell_type": "markdown",
   "id": "7708e832",
   "metadata": {},
   "source": [
    "### Esercizio\n",
    "Trova il numero di utenti che **non hanno mai dato voti**."
   ]
  },
  {
   "cell_type": "code",
   "execution_count": null,
   "id": "9651f038",
   "metadata": {},
   "outputs": [],
   "source": [
    "# Scrivi qui il tuo codice"
   ]
  },
  {
   "cell_type": "markdown",
   "id": "e415f405",
   "metadata": {},
   "source": [
    "### Esercizio\n",
    "Crea due DataFrame contenenti le prime 5 righe di `ratings` e `movies`, poi concatenali con `pd.concat()` lungo l’asse delle righe (`axis=0`).\n",
    "- Cosa succede se usi `ignore_index=True`?"
   ]
  },
  {
   "cell_type": "code",
   "execution_count": null,
   "id": "487c54a3",
   "metadata": {},
   "outputs": [],
   "source": [
    "# Scrivi qui il tuo codice"
   ]
  },
  {
   "cell_type": "markdown",
   "id": "c46fd858",
   "metadata": {},
   "source": [
    "### Esercizio\n",
    "Usa `concat()` con `keys=[\"ratings\", \"movies\"]` per ottenere un MultiIndex."
   ]
  },
  {
   "cell_type": "code",
   "execution_count": null,
   "id": "bf3ec33e",
   "metadata": {},
   "outputs": [],
   "source": [
    "# Scrivi qui il tuo codice"
   ]
  },
  {
   "cell_type": "markdown",
   "id": "4439b43c",
   "metadata": {},
   "source": [
    "### Esercizio\n",
    "Imposta un **MultiIndex** su `ratings` con livelli `\"UserID\"` e `\"MovieID\"`.\n",
    "- Ordina per `UserID` e mostra un sottoinsieme per uno specifico utente."
   ]
  },
  {
   "cell_type": "code",
   "execution_count": null,
   "id": "1edb6fd3",
   "metadata": {},
   "outputs": [],
   "source": [
    "# Scrivi qui il tuo codice"
   ]
  },
  {
   "cell_type": "markdown",
   "id": "9e9a9675",
   "metadata": {},
   "source": [
    "### Esercizio\n",
    "Usa `.unstack()` per trasformare il secondo livello (`MovieID`) in colonne."
   ]
  },
  {
   "cell_type": "code",
   "execution_count": null,
   "id": "837a4548",
   "metadata": {},
   "outputs": [],
   "source": [
    "# Scrivi qui il tuo codice"
   ]
  },
  {
   "cell_type": "markdown",
   "id": "16d6887d",
   "metadata": {},
   "source": [
    "### Esercizio\n",
    "Fai il contrario: `.stack()` su un DataFrame che hai precedentemente \"unstacked\"."
   ]
  },
  {
   "cell_type": "code",
   "execution_count": null,
   "id": "153c8cfd",
   "metadata": {},
   "outputs": [],
   "source": [
    "# Scrivi qui il tuo codice"
   ]
  },
  {
   "cell_type": "markdown",
   "id": "0f9070bd",
   "metadata": {},
   "source": [
    "### Esercizio\n",
    "Usa `pivot_table()` per calcolare il voto medio per `\"Gender\"` e `\"Occupation\"`."
   ]
  },
  {
   "cell_type": "code",
   "execution_count": null,
   "id": "f5c463b9",
   "metadata": {},
   "outputs": [],
   "source": [
    "# Scrivi qui il tuo codice"
   ]
  },
  {
   "cell_type": "markdown",
   "id": "a16d5488",
   "metadata": {},
   "source": [
    "### Esercizio\n",
    "Usa `pd.melt()` per convertire un DataFrame da formato largo a lungo:\n",
    "- Partendo da `users`, ottieni un DataFrame con colonne: `\"UserID\"`, `\"Attribute\"`, `\"Value\"`"
   ]
  },
  {
   "cell_type": "code",
   "execution_count": null,
   "id": "3d106f13",
   "metadata": {},
   "outputs": [],
   "source": [
    "# Scrivi qui il tuo codice"
   ]
  },
  {
   "cell_type": "markdown",
   "id": "4d1b0f81",
   "metadata": {},
   "source": [
    "### Esercizio\n",
    "Usa `combine_first()` per unire due DataFrame `users1` e `users2`, con alcuni valori mancanti."
   ]
  },
  {
   "cell_type": "code",
   "execution_count": null,
   "id": "9d473111",
   "metadata": {},
   "outputs": [],
   "source": [
    "# Scrivi qui il tuo codice"
   ]
  },
  {
   "cell_type": "markdown",
   "id": "f8d48308",
   "metadata": {},
   "source": [
    "### Esercizio\n",
    "Estrai da `ratings` solo i voti per i film `\"Action\"` e `\"Romance\"`, poi **crea una tabella** con:\n",
    "- indici = `\"UserID\"`, colonne = `[\"Action\", \"Romance\"]`, valori = numero di voti per ciascun genere"
   ]
  },
  {
   "cell_type": "code",
   "execution_count": null,
   "id": "f9ac8cec",
   "metadata": {},
   "outputs": [],
   "source": [
    "# Scrivi qui il tuo codice"
   ]
  },
  {
   "cell_type": "markdown",
   "id": "d59aa62b",
   "metadata": {},
   "source": [
    "### Esercizio\n",
    "Profilo Utente per Genere Cinematografico. Per ogni utente, identifica:\n",
    "- Il genere cinematografico **più votato**\n",
    "- Il genere **più apprezzato** (con voto medio più alto, solo se ha almeno 5 voti)\n",
    "- Crea una tabella con colonne:\n",
    "  - `UserID`\n",
    "  - `GenerePreferito`\n",
    "  - `GenereTopRating`\n",
    "  - `NumVotiTotali`\n",
    "\n",
    "Aggiungi una colonna `\"Coerenza\"`:\n",
    "- `\"Sì\"` se `GenerePreferito == GenereTopRating`\n",
    "- `\"No\"` altrimenti"
   ]
  },
  {
   "cell_type": "code",
   "execution_count": null,
   "id": "412981d1",
   "metadata": {},
   "outputs": [],
   "source": [
    "# Scrivi qui il tuo codice"
   ]
  }
 ],
 "metadata": {
  "language_info": {
   "name": "python"
  }
 },
 "nbformat": 4,
 "nbformat_minor": 5
}
