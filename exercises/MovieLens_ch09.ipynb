{
 "cells": [
  {
   "cell_type": "markdown",
   "id": "f0a6cba4",
   "metadata": {},
   "source": [
    "### Esercizio\n",
    "Mostra un istogramma dei voti (`ratings[\"Rating\"]`)"
   ]
  },
  {
   "cell_type": "code",
   "execution_count": null,
   "id": "cd6f8d7f",
   "metadata": {},
   "outputs": [],
   "source": [
    "# Scrivi qui il tuo codice"
   ]
  },
  {
   "cell_type": "markdown",
   "id": "0c5382bf",
   "metadata": {},
   "source": [
    "### Esercizio\n",
    "Crea un grafico a barre con `value_counts()` dei voti (1–5), ordinati."
   ]
  },
  {
   "cell_type": "code",
   "execution_count": null,
   "id": "759c3d92",
   "metadata": {},
   "outputs": [],
   "source": [
    "# Scrivi qui il tuo codice"
   ]
  },
  {
   "cell_type": "markdown",
   "id": "3f75fc62",
   "metadata": {},
   "source": [
    "### Esercizio\n",
    "Crea un istogramma della lunghezza dei titoli"
   ]
  },
  {
   "cell_type": "code",
   "execution_count": null,
   "id": "f6a19a0a",
   "metadata": {},
   "outputs": [],
   "source": [
    "# Scrivi qui il tuo codice"
   ]
  },
  {
   "cell_type": "markdown",
   "id": "dfc5e1c3",
   "metadata": {},
   "source": [
    "### Esercizio\n",
    "Calcola la media dei voti per anno e disegna un line plot."
   ]
  },
  {
   "cell_type": "code",
   "execution_count": null,
   "id": "c91ab4b0",
   "metadata": {},
   "outputs": [],
   "source": [
    "# Scrivi qui il tuo codice"
   ]
  },
  {
   "cell_type": "markdown",
   "id": "23529600",
   "metadata": {},
   "source": [
    "### Esercizio\n",
    "Calcola il numero di voti al mese e disegna un line plot. (Extra: usa `.resample(\"M\")`)"
   ]
  },
  {
   "cell_type": "code",
   "execution_count": null,
   "id": "2d02f24f",
   "metadata": {},
   "outputs": [],
   "source": [
    "# Scrivi qui il tuo codice"
   ]
  },
  {
   "cell_type": "markdown",
   "id": "4341f5ea",
   "metadata": {},
   "source": [
    "### Esercizio\n",
    "Usa `seaborn.boxplot()` per mostrare la distribuzione dei voti per genere utente"
   ]
  },
  {
   "cell_type": "code",
   "execution_count": null,
   "id": "d285ae1b",
   "metadata": {},
   "outputs": [],
   "source": [
    "# Scrivi qui il tuo codice"
   ]
  },
  {
   "cell_type": "markdown",
   "id": "7ac9511d",
   "metadata": {},
   "source": [
    "### Esercizio\n",
    "Estrai il primo genere da ogni film e crea un boxplot dei voti per genere."
   ]
  },
  {
   "cell_type": "code",
   "execution_count": null,
   "id": "3ac4c112",
   "metadata": {},
   "outputs": [],
   "source": [
    "# Scrivi qui il tuo codice"
   ]
  },
  {
   "cell_type": "markdown",
   "id": "33903538",
   "metadata": {},
   "source": [
    "### Esercizio\n",
    "Crea un bar plot con il numero di film per genere:\n",
    "   - Esplodi la colonna `Genres`\n",
    "   - Usa `.value_counts()`\n",
    "   - `.plot.barh()` per barre orizzontali"
   ]
  },
  {
   "cell_type": "code",
   "execution_count": null,
   "id": "fc1b67f6",
   "metadata": {},
   "outputs": [],
   "source": [
    "# Scrivi qui il tuo codice"
   ]
  },
  {
   "cell_type": "markdown",
   "id": "2f74b00c",
   "metadata": {},
   "source": [
    "### Esercizio\n",
    "Confronta la distribuzione dei voti tra uomini e donne in un solo grafico"
   ]
  },
  {
   "cell_type": "code",
   "execution_count": null,
   "id": "b3164464",
   "metadata": {},
   "outputs": [],
   "source": [
    "# Scrivi qui il tuo codice"
   ]
  },
  {
   "cell_type": "markdown",
   "id": "679e31f2",
   "metadata": {},
   "source": [
    "### Esercizio\n",
    "Fai un grafico a barre orizzontale con i 10 film con più voti totali."
   ]
  },
  {
   "cell_type": "code",
   "execution_count": null,
   "id": "376bce02",
   "metadata": {},
   "outputs": [],
   "source": [
    "# Scrivi qui il tuo codice"
   ]
  },
  {
   "cell_type": "markdown",
   "id": "94c3b248",
   "metadata": {},
   "source": [
    "### Esercizio\n",
    "Visualizza il rating medio per decennio"
   ]
  },
  {
   "cell_type": "code",
   "execution_count": null,
   "id": "cd475152",
   "metadata": {},
   "outputs": [],
   "source": [
    "# Scrivi qui il tuo codice"
   ]
  }
 ],
 "metadata": {
  "kernelspec": {
   "display_name": "analisi_dati",
   "language": "python",
   "name": "python3"
  },
  "language_info": {
   "name": "python",
   "version": "3.13.2"
  }
 },
 "nbformat": 4,
 "nbformat_minor": 5
}
