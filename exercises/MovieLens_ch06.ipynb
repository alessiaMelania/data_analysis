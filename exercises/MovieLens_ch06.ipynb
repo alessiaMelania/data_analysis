{
 "cells": [
  {
   "cell_type": "markdown",
   "id": "9ca7b903",
   "metadata": {},
   "source": [
    "### Esercizio\n",
    "Carica `movies.dat` in un DataFrame con separatore `::` e colonne: MovieID, Title, Genres."
   ]
  },
  {
   "cell_type": "code",
   "execution_count": null,
   "id": "c392ec30",
   "metadata": {},
   "outputs": [],
   "source": [
    "# Scrivi qui il tuo codice"
   ]
  },
  {
   "cell_type": "markdown",
   "id": "88d079bb",
   "metadata": {},
   "source": [
    "### Esercizio\n",
    "Carica `ratings.dat` in un DataFrame con colonne: UserID, MovieID, Rating, Timestamp."
   ]
  },
  {
   "cell_type": "code",
   "execution_count": null,
   "id": "430e1755",
   "metadata": {},
   "outputs": [],
   "source": [
    "# Scrivi qui il tuo codice"
   ]
  },
  {
   "cell_type": "markdown",
   "id": "c32b6f5e",
   "metadata": {},
   "source": [
    "### Esercizio\n",
    "Quanti film unici ci sono nel dataset?"
   ]
  },
  {
   "cell_type": "code",
   "execution_count": null,
   "id": "c3717973",
   "metadata": {},
   "outputs": [],
   "source": [
    "# Scrivi qui il tuo codice"
   ]
  },
  {
   "cell_type": "markdown",
   "id": "de36a17a",
   "metadata": {},
   "source": [
    "### Esercizio\n",
    "Quanti voti sono pari a 5? Quanti sono inferiori a 3?"
   ]
  },
  {
   "cell_type": "code",
   "execution_count": null,
   "id": "328129db",
   "metadata": {},
   "outputs": [],
   "source": [
    "# Scrivi qui il tuo codice"
   ]
  },
  {
   "cell_type": "markdown",
   "id": "f48c81a7",
   "metadata": {},
   "source": [
    "### Esercizio\n",
    "Mostra le prime 10 righe dove il Rating è uguale a 1."
   ]
  },
  {
   "cell_type": "code",
   "execution_count": null,
   "id": "ab59cac4",
   "metadata": {},
   "outputs": [],
   "source": [
    "# Scrivi qui il tuo codice"
   ]
  },
  {
   "cell_type": "markdown",
   "id": "9d8b1ae7",
   "metadata": {},
   "source": [
    "### Esercizio\n",
    "Quanti film hanno più di un genere?"
   ]
  },
  {
   "cell_type": "code",
   "execution_count": null,
   "id": "a731c769",
   "metadata": {},
   "outputs": [],
   "source": [
    "# Scrivi qui il tuo codice"
   ]
  },
  {
   "cell_type": "markdown",
   "id": "5efa42fd",
   "metadata": {},
   "source": [
    "### Esercizio\n",
    "Estrai l’anno dal titolo del film in una nuova colonna."
   ]
  },
  {
   "cell_type": "code",
   "execution_count": null,
   "id": "408342a3",
   "metadata": {},
   "outputs": [],
   "source": [
    "# Scrivi qui il tuo codice"
   ]
  },
  {
   "cell_type": "markdown",
   "id": "018a62f4",
   "metadata": {},
   "source": [
    "### Esercizio\n",
    "Crea una colonna “Titolo_solo” rimuovendo l’anno dal titolo."
   ]
  },
  {
   "cell_type": "code",
   "execution_count": null,
   "id": "1e46d1e3",
   "metadata": {},
   "outputs": [],
   "source": [
    "# Scrivi qui il tuo codice"
   ]
  },
  {
   "cell_type": "markdown",
   "id": "c9a77272",
   "metadata": {},
   "source": [
    "### Esercizio\n",
    "Aggiungi una colonna “Titolo_maiuscolo” con tutti i titoli in maiuscolo."
   ]
  },
  {
   "cell_type": "code",
   "execution_count": null,
   "id": "2ebe3630",
   "metadata": {},
   "outputs": [],
   "source": [
    "# Scrivi qui il tuo codice"
   ]
  },
  {
   "cell_type": "markdown",
   "id": "3a62c891",
   "metadata": {},
   "source": [
    "### Esercizio\n",
    "**Extra**: Scrivi una funzione `estrai_anno(titolo)` che gestisce tutte le situazioni possibili, ad esempio se l'anno non esiste. Applica con `map()` sulla colonna dei titoli e crea una colonna di tipo `int64`."
   ]
  },
  {
   "cell_type": "code",
   "execution_count": null,
   "id": "fc486a9b",
   "metadata": {},
   "outputs": [],
   "source": [
    "# Scrivi qui il tuo codice"
   ]
  },
  {
   "cell_type": "markdown",
   "id": "593c249c",
   "metadata": {},
   "source": [
    "### Esercizio\n",
    "Crea una colonna `Rating_x2` che raddoppia ogni voto."
   ]
  },
  {
   "cell_type": "code",
   "execution_count": null,
   "id": "fe455749",
   "metadata": {},
   "outputs": [],
   "source": [
    "# Scrivi qui il tuo codice"
   ]
  },
  {
   "cell_type": "markdown",
   "id": "c200e950",
   "metadata": {},
   "source": [
    "### Esercizio\n",
    "Usa `apply()` per creare una colonna “Etichetta”:\n",
    "- “basso” se Rating ≤ 2\n",
    "- “medio” se Rating == 3\n",
    "- “alto” se Rating ≥ 4"
   ]
  },
  {
   "cell_type": "code",
   "execution_count": null,
   "id": "df222217",
   "metadata": {},
   "outputs": [],
   "source": [
    "# Scrivi qui il tuo codice"
   ]
  },
  {
   "cell_type": "markdown",
   "id": "13f20f69",
   "metadata": {},
   "source": [
    "### Esercizio\n",
    "Usa `.describe()` per riassumere i valori di Rating."
   ]
  },
  {
   "cell_type": "code",
   "execution_count": null,
   "id": "95631750",
   "metadata": {},
   "outputs": [],
   "source": [
    "# Scrivi qui il tuo codice"
   ]
  },
  {
   "cell_type": "markdown",
   "id": "b0bdb0c1",
   "metadata": {},
   "source": [
    "### Esercizio\n",
    "Quanti rating ha ciascun valore possibile (1–5)?"
   ]
  },
  {
   "cell_type": "code",
   "execution_count": null,
   "id": "87867a11",
   "metadata": {},
   "outputs": [],
   "source": [
    "# Scrivi qui il tuo codice"
   ]
  },
  {
   "cell_type": "markdown",
   "id": "389c5346",
   "metadata": {},
   "source": [
    "### Esercizio\n",
    "Ordina il DataFrame dei rating dal voto più alto a quello più basso."
   ]
  },
  {
   "cell_type": "code",
   "execution_count": null,
   "id": "3eea4338",
   "metadata": {},
   "outputs": [],
   "source": [
    "# Scrivi qui il tuo codice"
   ]
  },
  {
   "cell_type": "markdown",
   "id": "34acd383",
   "metadata": {},
   "source": [
    "### Esercizio\n",
    "Qual è l’intervallo (max - min) dei MovieID?"
   ]
  },
  {
   "cell_type": "code",
   "execution_count": null,
   "id": "242858c2",
   "metadata": {},
   "outputs": [],
   "source": [
    "# Scrivi qui il tuo codice"
   ]
  },
  {
   "cell_type": "markdown",
   "id": "eb43f199",
   "metadata": {},
   "source": [
    "### Esercizio\n",
    "Filtra i film il cui titolo inizia con `Star`."
   ]
  },
  {
   "cell_type": "code",
   "execution_count": null,
   "id": "e6f7246b",
   "metadata": {},
   "outputs": [],
   "source": [
    "# Scrivi qui il tuo codice"
   ]
  },
  {
   "cell_type": "markdown",
   "id": "722c56c8",
   "metadata": {},
   "source": [
    "### Esercizio\n",
    "Crea una colonna `n_generi` che conta quanti generi ha ogni film."
   ]
  },
  {
   "cell_type": "code",
   "execution_count": null,
   "id": "31293b0a",
   "metadata": {},
   "outputs": [],
   "source": [
    "# Scrivi qui il tuo codice"
   ]
  },
  {
   "cell_type": "markdown",
   "id": "c3f029b4",
   "metadata": {},
   "source": [
    "### Esercizio\n",
    "Seleziona solo i film che hanno tra 2 e 3 generi."
   ]
  },
  {
   "cell_type": "code",
   "execution_count": null,
   "id": "f7a2142a",
   "metadata": {},
   "outputs": [],
   "source": [
    "# Scrivi qui il tuo codice"
   ]
  }
 ],
 "metadata": {
  "kernelspec": {
   "display_name": "analisi_dati",
   "language": "python",
   "name": "python3"
  },
  "language_info": {
   "name": "python",
   "version": "3.13.2"
  }
 },
 "nbformat": 4,
 "nbformat_minor": 5
}
