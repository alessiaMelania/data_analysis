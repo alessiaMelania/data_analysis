{
 "cells": [
  {
   "cell_type": "markdown",
   "id": "44d346a4",
   "metadata": {},
   "source": [
    "### Esercizio\n",
    "Intenzionalmente imposta alcuni valori `NaN` nella colonna \"Genres\" e prova a:\n",
    "- Filtrare i film che **non** hanno valori mancanti\n",
    "- Riempire i `NaN` con \"Unknown\""
   ]
  },
  {
   "cell_type": "code",
   "execution_count": null,
   "id": "350af8bc",
   "metadata": {},
   "outputs": [],
   "source": [
    "# Scrivi qui il tuo codice"
   ]
  },
  {
   "cell_type": "markdown",
   "id": "b6637f15",
   "metadata": {},
   "source": [
    "### Esercizio\n",
    "Aggiungi una colonna `Note` vuota e riempila con \"OK\" dove `Rating >= 4`, altrimenti \"Review\"."
   ]
  },
  {
   "cell_type": "code",
   "execution_count": null,
   "id": "bc4eccb4",
   "metadata": {},
   "outputs": [],
   "source": [
    "# Scrivi qui il tuo codice"
   ]
  },
  {
   "cell_type": "markdown",
   "id": "afe360ef",
   "metadata": {},
   "source": [
    "### Esercizio\n",
    "Rimuovi i voti duplicati (stesse colonne uguali)."
   ]
  },
  {
   "cell_type": "code",
   "execution_count": null,
   "id": "b1930732",
   "metadata": {},
   "outputs": [],
   "source": [
    "# Scrivi qui il tuo codice"
   ]
  },
  {
   "cell_type": "markdown",
   "id": "f785e452",
   "metadata": {},
   "source": [
    "### Esercizio\n",
    "Crea una colonna `\"Livello\"` mappando il `Rating`:\n",
    "- 1–2 → \"Basso\"\n",
    "- 3 → \"Medio\"\n",
    "- 4–5 → \"Alto\""
   ]
  },
  {
   "cell_type": "code",
   "execution_count": null,
   "id": "e9a648cc",
   "metadata": {},
   "outputs": [],
   "source": [
    "# Scrivi qui il tuo codice"
   ]
  },
  {
   "cell_type": "markdown",
   "id": "fd3f8b8b",
   "metadata": {},
   "source": [
    "### Esercizio\n",
    "Sostituisci tutti i valori \"Comedy\" nella colonna `Genres` con \"Humor\"."
   ]
  },
  {
   "cell_type": "code",
   "execution_count": null,
   "id": "cc6412b6",
   "metadata": {},
   "outputs": [],
   "source": [
    "# Scrivi qui il tuo codice"
   ]
  },
  {
   "cell_type": "markdown",
   "id": "93e72683",
   "metadata": {},
   "source": [
    "### Esercizio\n",
    "Rinomina le colonne `UserID`, `MovieID`, `Rating` in maiuscolo."
   ]
  },
  {
   "cell_type": "code",
   "execution_count": null,
   "id": "58215154",
   "metadata": {},
   "outputs": [],
   "source": [
    "# Scrivi qui il tuo codice"
   ]
  },
  {
   "cell_type": "markdown",
   "id": "9a760a68",
   "metadata": {},
   "source": [
    "### Esercizio\n",
    "Usa `cut()` per creare una colonna `fascia_rating`:\n",
    "- [0, 2.5] → \"basso\"\n",
    "- (2.5, 3.5] → \"medio\"\n",
    "- (3.5, 5] → \"alto\""
   ]
  },
  {
   "cell_type": "code",
   "execution_count": null,
   "id": "305bac4e",
   "metadata": {},
   "outputs": [],
   "source": [
    "# Scrivi qui il tuo codice"
   ]
  },
  {
   "cell_type": "markdown",
   "id": "dd21d00b",
   "metadata": {},
   "source": [
    "### Esercizio\n",
    "Trova tutti i rating che sono outlier (fuori da 1–5), se esistono."
   ]
  },
  {
   "cell_type": "code",
   "execution_count": null,
   "id": "0a791e21",
   "metadata": {},
   "outputs": [],
   "source": [
    "# Scrivi qui il tuo codice"
   ]
  },
  {
   "cell_type": "markdown",
   "id": "deead0e3",
   "metadata": {},
   "source": [
    "### Esercizio\n",
    "Estrai un campione casuale del 5% dal DataFrame dei rating."
   ]
  },
  {
   "cell_type": "code",
   "execution_count": null,
   "id": "7d1f7bc8",
   "metadata": {},
   "outputs": [],
   "source": [
    "# Scrivi qui il tuo codice"
   ]
  },
  {
   "cell_type": "markdown",
   "id": "4f94789c",
   "metadata": {},
   "source": [
    "### Esercizio\n",
    "Usa `get_dummies()` per trasformare `Gender` o `Occupation` in colonne dummy."
   ]
  },
  {
   "cell_type": "code",
   "execution_count": null,
   "id": "726150f6",
   "metadata": {},
   "outputs": [],
   "source": [
    "# Scrivi qui il tuo codice"
   ]
  },
  {
   "cell_type": "markdown",
   "id": "5a29480b",
   "metadata": {},
   "source": [
    "### Esercizio\n",
    "Esegui una permutazione casuale dell’ordine delle righe nel DataFrame `ratings`."
   ]
  },
  {
   "cell_type": "code",
   "execution_count": null,
   "id": "6e42ac75",
   "metadata": {},
   "outputs": [],
   "source": [
    "# Scrivi qui il tuo codice"
   ]
  },
  {
   "cell_type": "markdown",
   "id": "853a2229",
   "metadata": {},
   "source": [
    "### Esercizio\n",
    "Conta quanti utenti hanno dato più voti al genere \"Action\" rispetto a \"Romance\". (Suggerimento: esplodi i generi, crea colonne dummy, poi aggrega per utente)."
   ]
  },
  {
   "cell_type": "code",
   "execution_count": null,
   "id": "e9a4a5aa",
   "metadata": {},
   "outputs": [],
   "source": [
    "# Scrivi qui il tuo codice"
   ]
  },
  {
   "cell_type": "markdown",
   "id": "69e63868",
   "metadata": {},
   "source": [
    "### Esercizio\n",
    "Aggiungi una colonna \"ClasseVoto\" con:\n",
    "- `cut()` per dividere i Rating in 4 quartili\n",
    "- Nomina i bin \"Scarso\", \"Discreto\", \"Buono\", \"Eccellente\"\n",
    "\n",
    "Poi conta quanti film hanno ricevuto almeno un voto \"Scarso\"."
   ]
  },
  {
   "cell_type": "code",
   "execution_count": null,
   "id": "131e56e8",
   "metadata": {},
   "outputs": [],
   "source": [
    "# Scrivi qui il tuo codice"
   ]
  },
  {
   "cell_type": "markdown",
   "id": "8087ea8f",
   "metadata": {},
   "source": [
    "### Esercizio\n",
    "\n",
    "Converti la colonna \"Occupation\" in tipo categorico\n",
    "- Stampa la lista delle categorie disponibili\n",
    "- Calcola la memoria usata prima e dopo la conversione"
   ]
  },
  {
   "cell_type": "code",
   "execution_count": null,
   "id": "b4951556",
   "metadata": {},
   "outputs": [],
   "source": [
    "# Scrivi qui il tuo codice"
   ]
  }
 ],
 "metadata": {
  "language_info": {
   "name": "python"
  }
 },
 "nbformat": 4,
 "nbformat_minor": 5
}
