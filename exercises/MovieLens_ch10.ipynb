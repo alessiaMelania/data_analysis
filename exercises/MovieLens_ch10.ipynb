{
 "cells": [
  {
   "cell_type": "markdown",
   "id": "ef3b15f2",
   "metadata": {},
   "source": [
    "### Esercizio\n",
    "Calcola la **media, deviazione standard e numero di voti** per ogni valore di voto"
   ]
  },
  {
   "cell_type": "code",
   "execution_count": null,
   "id": "272b1b12",
   "metadata": {},
   "outputs": [],
   "source": [
    "# Scrivi qui il tuo codice"
   ]
  },
  {
   "cell_type": "markdown",
   "id": "bb8d6bf1",
   "metadata": {},
   "source": [
    "### Esercizio\n",
    "Per ogni utente calcola il **numero di film votati**."
   ]
  },
  {
   "cell_type": "code",
   "execution_count": null,
   "id": "e576a5ad",
   "metadata": {},
   "outputs": [],
   "source": [
    "# Scrivi qui il tuo codice"
   ]
  },
  {
   "cell_type": "markdown",
   "id": "35a1f5ff",
   "metadata": {},
   "source": [
    "### Esercizio\n",
    "Per ogni `MovieID`, calcola:\n",
    "- il numero di voti\n",
    "- il voto medio\n",
    "- la deviazione standard"
   ]
  },
  {
   "cell_type": "code",
   "execution_count": null,
   "id": "79e59c7a",
   "metadata": {},
   "outputs": [],
   "source": [
    "# Scrivi qui il tuo codice"
   ]
  },
  {
   "cell_type": "markdown",
   "id": "35cebf0f",
   "metadata": {},
   "source": [
    "### Esercizio\n",
    "Calcola per ogni utente:\n",
    "- numero di voti\n",
    "- voto massimo\n",
    "- voto minimo\n",
    "- media arrotondata a 1 decimale"
   ]
  },
  {
   "cell_type": "code",
   "execution_count": null,
   "id": "2a369ed9",
   "metadata": {},
   "outputs": [],
   "source": [
    "# Scrivi qui il tuo codice"
   ]
  },
  {
   "cell_type": "markdown",
   "id": "4bfb64a3",
   "metadata": {},
   "source": [
    "### Esercizio\n",
    "Scrivi una funzione `peak_to_peak(group)` che restituisca `max - min`.\n",
    "Applica questa funzione ai gruppi per `MovieID`."
   ]
  },
  {
   "cell_type": "code",
   "execution_count": null,
   "id": "b95cc5d9",
   "metadata": {},
   "outputs": [],
   "source": [
    "# Scrivi qui il tuo codice"
   ]
  },
  {
   "cell_type": "markdown",
   "id": "e7b405e7",
   "metadata": {},
   "source": [
    "### Esercizio\n",
    "Per ogni utente, calcola il voto medio **normalizzato** (voto - media generale del film)."
   ]
  },
  {
   "cell_type": "code",
   "execution_count": null,
   "id": "11f0237a",
   "metadata": {},
   "outputs": [],
   "source": [
    "# Scrivi qui il tuo codice"
   ]
  },
  {
   "cell_type": "markdown",
   "id": "158bf8a2",
   "metadata": {},
   "source": [
    "### Esercizio\n",
    "Aggiungi una colonna `\"rating_centered\"` che per ogni voto sottrae il voto medio del film."
   ]
  },
  {
   "cell_type": "code",
   "execution_count": null,
   "id": "9db0cfc3",
   "metadata": {},
   "outputs": [],
   "source": [
    "# Scrivi qui il tuo codice"
   ]
  },
  {
   "cell_type": "markdown",
   "id": "623da7c6",
   "metadata": {},
   "source": [
    "### Esercizio\n",
    "Usa `groupby(...).apply(...)` per estrarre, per ogni `MovieID`, solo i 3 voti più alti."
   ]
  },
  {
   "cell_type": "code",
   "execution_count": null,
   "id": "ac1a5ae3",
   "metadata": {},
   "outputs": [],
   "source": [
    "# Scrivi qui il tuo codice"
   ]
  },
  {
   "cell_type": "markdown",
   "id": "739bff52",
   "metadata": {},
   "source": [
    "### Esercizio\n",
    "Usa `pd.qcut()` per dividere gli utenti in 4 gruppi per numero totale di voti. Calcola il voto medio per ciascun gruppo."
   ]
  },
  {
   "cell_type": "code",
   "execution_count": null,
   "id": "6ceb0b31",
   "metadata": {},
   "outputs": [],
   "source": [
    "# Scrivi qui il tuo codice"
   ]
  },
  {
   "cell_type": "markdown",
   "id": "dda85fc1",
   "metadata": {},
   "source": [
    "### Esercizio\n",
    "Crea una colonna `\"frequenza\"` per ogni film:\n",
    "- `\"basso\"` se ha < 10 voti\n",
    "- `\"medio\"` se 10–100\n",
    "- `\"alto\"` se > 100"
   ]
  },
  {
   "cell_type": "code",
   "execution_count": null,
   "id": "1b24b6c2",
   "metadata": {},
   "outputs": [],
   "source": [
    "# Scrivi qui il tuo codice"
   ]
  },
  {
   "cell_type": "markdown",
   "id": "c7521454",
   "metadata": {},
   "source": [
    "### Esercizio\n",
    "Crea una pivot table con:\n",
    "- righe = `Gender`\n",
    "- colonne = `Occupation`\n",
    "- valori = voto medio"
   ]
  },
  {
   "cell_type": "code",
   "execution_count": null,
   "id": "becda9be",
   "metadata": {},
   "outputs": [],
   "source": [
    "# Scrivi qui il tuo codice"
   ]
  },
  {
   "cell_type": "markdown",
   "id": "67e3e214",
   "metadata": {},
   "source": [
    "### Esercizio\n",
    "Crea una tabella con `pd.crosstab()` che mostra **quanti utenti** per `Gender` e `Age`."
   ]
  },
  {
   "cell_type": "code",
   "execution_count": null,
   "id": "779e96a1",
   "metadata": {},
   "outputs": [],
   "source": [
    "# Scrivi qui il tuo codice"
   ]
  },
  {
   "cell_type": "markdown",
   "id": "159d532e",
   "metadata": {},
   "source": [
    "### Esercizio  – Film controversi\n",
    "Trova i film più controversi, cioè quelli con:\n",
    "- almeno 50 voti\n",
    "- alta deviazione standard dei voti (es. > 1.2)\n",
    "- voto medio tra 2.5 e 3.5\n",
    "\n",
    "**Output atteso**: un DataFrame con:\n",
    "- MovieID, mean_rating, std_rating, count\n",
    "- Titolo del film\n"
   ]
  },
  {
   "cell_type": "code",
   "execution_count": null,
   "id": "1784332c",
   "metadata": {},
   "outputs": [],
   "source": [
    "# Scrivi qui il tuo codice"
   ]
  }
 ],
 "metadata": {
  "kernelspec": {
   "display_name": "analisi_dati",
   "language": "python",
   "name": "python3"
  },
  "language_info": {
   "name": "python",
   "version": "3.13.2"
  }
 },
 "nbformat": 4,
 "nbformat_minor": 5
}
